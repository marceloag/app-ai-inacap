{
  "cells": [
    {
      "cell_type": "markdown",
      "metadata": {},
      "source": [
        "# Procesamiento de Lenguaje Natural con LLMs\n",
        "### Modelo Clásico a Modelos Modernos 🚀\n",
        "\n",
        "Este notebook muestra la evolución del NLP:\n",
        "1. Fundamentos clásicos (preprocesamiento y representación)\n",
        "2. Clasificación tradicional\n",
        "3. LLMs modernos"
      ]
    },
    {
      "cell_type": "markdown",
      "metadata": {},
      "source": [
        "## PARTE 1: FUNDAMENTOS CLÁSICOS DE NLP"
      ]
    },
    {
      "cell_type": "code",
      "execution_count": null,
      "metadata": {},
      "outputs": [],
      "source": [
        "!pip install nltk transformers torch scikit-learn -q"
      ]
    },
    {
      "cell_type": "code",
      "execution_count": null,
      "metadata": {},
      "outputs": [],
      "source": [
        "import nltk\n",
        "import re\n",
        "from collections import Counter\n",
        "nltk.download('punkt', quiet=True)\n",
        "nltk.download('stopwords', quiet=True)"
      ]
    },
    {
      "cell_type": "code",
      "execution_count": null,
      "metadata": {},
      "outputs": [],
      "source": [
        "# Dataset simple para clasificación de sentimientos\n",
        "reviews = [\n",
        "    \"Me encanta este producto, es increíble!\",\n",
        "    \"Pésima experiencia, no lo recomiendo\",\n",
        "    \"Es aceptable, cumple lo esperado\",\n",
        "    \"Excelente compra, superó expectativas\",\n",
        "    \"Horrible servicio, muy decepcionado\"\n",
        "]\n",
        "sentimientos = ['positivo', 'negativo', 'neutral', 'positivo', 'negativo']\n",
        "\n",
        "print(\"=== DATASET ORIGINAL ===\")\n",
        "for i, (review, sent) in enumerate(zip(reviews, sentimientos), 1):\n",
        "    print(f\"{i}. [{sent}] {review}\")"
      ]
    },
    {
      "cell_type": "markdown",
      "metadata": {},
      "source": [
        "### Preprocesamiento Clásico\n",
        "\n",
        "**PREPROCESAMIENTO**: Limpiar y normalizar texto para análisis.\n",
        "- Tokenización: dividir en palabras\n",
        "- Stop words: remover palabras comunes sin significado\n",
        "- Stemming: reducir palabras a su raíz"
      ]
    },
    {
      "cell_type": "code",
      "execution_count": null,
      "metadata": {},
      "outputs": [],
      "source": [
        "from nltk.tokenize import word_tokenize\n",
        "from nltk.corpus import stopwords\n",
        "from nltk.stem import SnowballStemmer\n",
        "\n",
        "stop_words = set(stopwords.words('spanish'))\n",
        "stemmer = SnowballStemmer('spanish')\n",
        "\n",
        "def preprocesar(texto):\n",
        "    # Limpiar y tokenizar\n",
        "    texto = re.sub(r'[^\\w\\s]', '', texto.lower())\n",
        "    tokens = word_tokenize(texto)\n",
        "    # Remover stop words y hacer stemming\n",
        "    tokens = [stemmer.stem(t) for t in tokens if t not in stop_words]\n",
        "    return ' '.join(tokens)\n",
        "\n",
        "reviews_procesados = [preprocesar(r) for r in reviews]\n",
        "\n",
        "print(\"\\n=== DESPUÉS DEL PREPROCESAMIENTO ===\")\n",
        "for i, review in enumerate(reviews_procesados, 1):\n",
        "    print(f\"{i}. {review}\")"
      ]
    },
    {
      "cell_type": "markdown",
      "metadata": {},
      "source": [
        "### Representación: Bag of Words\n",
        "\n",
        "**BAG OF WORDS**: Representa texto como vector de frecuencias de palabras.\n",
        "Cada palabra del vocabulario es una dimensión.\n",
        "Problema: Pierde contexto y semántica."
      ]
    },
    {
      "cell_type": "code",
      "execution_count": null,
      "metadata": {},
      "outputs": [],
      "source": [
        "from sklearn.feature_extraction.text import TfidfVectorizer\n",
        "\n",
        "vectorizer = TfidfVectorizer()\n",
        "X = vectorizer.fit_transform(reviews_procesados)\n",
        "\n",
        "print(\"\\n=== BAG OF WORDS (TF-IDF) ===\")\n",
        "print(f\"Vocabulario: {vectorizer.get_feature_names_out()}\")\n",
        "print(f\"Dimensión: {X.shape}\")"
      ]
    },
    {
      "cell_type": "markdown",
      "metadata": {},
      "source": [
        "### Clasificación Tradicional\n",
        "\n",
        "**CLASIFICACIÓN CLÁSICA**: Usamos algoritmos como Naive Bayes o SVM.\n",
        "Requieren mucho preprocesamiento y features engineering."
      ]
    },
    {
      "cell_type": "code",
      "execution_count": null,
      "metadata": {},
      "outputs": [],
      "source": [
        "from sklearn.naive_bayes import MultinomialNB\n",
        "from sklearn.model_selection import cross_val_score\n",
        "\n",
        "clf = MultinomialNB()\n",
        "scores = cross_val_score(clf, X, sentimientos, cv=2)\n",
        "print(f\"\\n=== CLASIFICACIÓN TRADICIONAL (Naive Bayes) ===\")\n",
        "print(f\"Accuracy promedio: {scores.mean():.2f}\")"
      ]
    },
    {
      "cell_type": "markdown",
      "metadata": {},
      "source": [
        "## PARTE 2: ¡LA REVOLUCIÓN DE LOS LLMs! 🤖✨\n",
        "\n",
        "**LLMs (Large Language Models)**: Modelos masivos entrenados en billones de palabras.\n",
        "- Entienden contexto, semántica y relaciones complejas\n",
        "- No necesitan preprocesamiento manual\n",
        "- Pueden hacer múltiples tareas sin reentrenamiento (zero-shot)\n",
        "- Ejemplos: BERT, GPT, LLaMA, etc.\n"
      ]
    },
    {
      "cell_type": "code",
      "execution_count": null,
      "metadata": {},
      "outputs": [],
      "source": [
        "from transformers import pipeline\n",
        "\n",
        "print(\"\\n\" + \"=\"*70)\n",
        "print(\"🚀 CARGANDO MODELO DE LENGUAJE MODERNO...\")\n",
        "print(\"=\"*70)\n",
        "\n",
        "# Cargamos un modelo preentrenado en español para análisis de sentimientos\n",
        "# Este modelo ya fue entrenado en millones de textos\n",
        "clasificador_llm = pipeline(\n",
        "    \"sentiment-analysis\",\n",
        "    model=\"pysentimiento/robertuito-sentiment-analysis\"\n",
        ")\n",
        "\n",
        "print(\"✅ Modelo cargado: RoBERTuito (BERT en español)\")\n",
        "print(\"   Entrenado en millones de tweets en español\\n\")"
      ]
    },
    {
      "cell_type": "markdown",
      "metadata": {},
      "source": [
        "### Análisis con LLM - Zero Shot\n",
        "\n",
        "**ZERO-SHOT**: El modelo puede clasificar SIN ver ejemplos de entrenamiento.\n",
        "Ya aprendió sobre sentimientos de su entrenamiento masivo."
      ]
    },
    {
      "cell_type": "code",
      "execution_count": null,
      "metadata": {},
      "outputs": [],
      "source": [
        "print(\"=== CLASIFICACIÓN CON LLM (Sin preprocesamiento) ===\\n\")\n",
        "\n",
        "for i, review in enumerate(reviews, 1):\n",
        "    resultado = clasificador_llm(review)[0]\n",
        "    etiqueta = resultado['label']\n",
        "    confianza = resultado['score']\n",
        "    \n",
        "    # Mapeo de etiquetas\n",
        "    etiqueta_es = {'POS': '😊 Positivo', 'NEG': '😞 Negativo', 'NEU': '😐 Neutral'}\n",
        "    \n",
        "    print(f\"{i}. \\\"{review}\\\"\")\n",
        "    print(f\"   Predicción: {etiqueta_es.get(etiqueta, etiqueta)} (confianza: {confianza:.2%})\")\n",
        "    print()"
      ]
    },
    {
      "cell_type": "markdown",
      "metadata": {},
      "source": [
        "### Casos más complejos"
      ]
    },
    {
      "cell_type": "code",
      "execution_count": null,
      "metadata": {},
      "outputs": [],
      "source": [
        "print(\"\\n\" + \"=\"*70)\n",
        "print(\"🧪 PROBANDO CON CASOS DESAFIANTES\")\n",
        "print(\"=\"*70 + \"\\n\")\n",
        "\n",
        "casos_complejos = [\n",
        "    \"No es que sea malo, pero definitivamente no es bueno\",  # Negación compleja\n",
        "    \"Esperaba más, aunque tiene sus puntos positivos\",       # Sentimiento mixto\n",
        "    \"¡Qué desastre tan espectacular! (Es ironía)\",          # Ironía\n",
        "    \"Increíble cómo algo tan caro puede ser tan mediocre\"   # Sarcasmo\n",
        "]\n",
        "\n",
        "for caso in casos_complejos:\n",
        "    resultado = clasificador_llm(caso)[0]\n",
        "    etiqueta = {'POS': '😊', 'NEG': '😞', 'NEU': '😐'}.get(resultado['label'], '🤔')\n",
        "    \n",
        "    print(f\"📝 \\\"{caso}\\\"\")\n",
        "    print(f\"   {etiqueta} {resultado['label']} ({resultado['score']:.1%})\\n\")"
      ]
    },
    {
      "cell_type": "markdown",
      "metadata": {},
      "source": [
        "## PARTE 3: GENERACIÓN DE TEXTO CON LLMs 🎨\n",
        "\n",
        "Los LLMs también pueden **GENERAR** texto coherente.\n",
        "Vamos a usar un modelo generativo en español."
      ]
    },
    {
      "cell_type": "code",
      "execution_count": null,
      "metadata": {},
      "outputs": [],
      "source": [
        "print(\"\\n\" + \"=\"*70)\n",
        "print(\"🎨 GENERACIÓN DE TEXTO\")\n",
        "print(\"=\"*70 + \"\\n\")\n",
        "\n",
        "# Modelo generativo (más pequeño para Google Colab)\n",
        "generador = pipeline(\n",
        "    \"text-generation\",\n",
        "    model=\"DeepESP/gpt2-spanish\",\n",
        "    max_length=80\n",
        ")\n",
        "\n",
        "prompts = [\n",
        "    \"La inteligencia artificial es\",\n",
        "    \"En el futuro, los robots\",\n",
        "    \"El curso de IA me parece\"\n",
        "]\n",
        "\n",
        "for prompt in prompts:\n",
        "    texto_generado = generador(prompt, do_sample=True, temperature=0.7)[0]['generated_text']\n",
        "    print(f\"💭 Prompt: \\\"{prompt}\\\"\")\n",
        "    print(f\"✨ Generado: {texto_generado}\\n\")"
      ]
    },
    {
      "cell_type": "markdown",
      "metadata": {},
      "source": [
        "## PARTE 4: COMPARACIÓN Y CONCLUSIONES"
      ]
    },
    {
      "cell_type": "code",
      "execution_count": null,
      "metadata": {},
      "outputs": [],
      "source": [
        "print(\"\\n\" + \"=\"*70)\n",
        "print(\"📊 MÉTODOS CLÁSICOS vs LLMs\")\n",
        "print(\"=\"*70 + \"\\n\")\n",
        "\n",
        "comparacion = \"\"\"\n",
        "┌─────────────────────────┬──────────────────────┬─────────────────────┐\n",
        "│ ASPECTO                 │ MÉTODOS CLÁSICOS     │ LLMs                │\n",
        "├─────────────────────────┼──────────────────────┼─────────────────────┤\n",
        "│ Preprocesamiento        │ Extensivo y manual   │ Mínimo o ninguno    │\n",
        "│ Features                │ Manual (BoW, TF-IDF) │ Automáticas         │\n",
        "│ Contexto                │ Limitado             │ Excelente           │\n",
        "│ Semántica               │ Básica               │ Profunda            │\n",
        "│ Datos necesarios        │ Miles por clase      │ Zero/Few-shot       │\n",
        "│ Velocidad inferencia    │ Muy rápida           │ Más lenta           │\n",
        "│ Recursos computación    │ Bajos                │ Altos               │\n",
        "│ Tareas múltiples        │ Un modelo por tarea  │ Modelo multiuso     │\n",
        "└─────────────────────────┴──────────────────────┴─────────────────────┘\n",
        "\"\"\"\n",
        "\n",
        "print(comparacion)"
      ]
    },
    {
      "cell_type": "markdown",
      "metadata": {},
      "source": [
        "## BONUS: Clasificación Personalizada con Few-Shot\n",
        "\n",
        "**FEW-SHOT LEARNING**: Damos al LLM solo unos pocos ejemplos y aprende la tarea.\n",
        "¡No necesita reentrenamiento completo!"
      ]
    },
    {
      "cell_type": "code",
      "execution_count": null,
      "metadata": {},
      "outputs": [],
      "source": [
        "print(\"\\n\" + \"=\"*70)\n",
        "print(\"🎯 BONUS: FEW-SHOT LEARNING\")\n",
        "print(\"=\"*70 + \"\\n\")\n",
        "\n",
        "# Usamos un modelo más potente para few-shot\n",
        "from transformers import AutoTokenizer, AutoModelForSequenceClassification\n",
        "import torch\n",
        "\n",
        "modelo_nombre = \"dccuchile/bert-base-spanish-wwm-cased\"\n",
        "tokenizer = AutoTokenizer.from_pretrained(modelo_nombre)\n",
        "modelo = AutoModelForSequenceClassification.from_pretrained(\n",
        "    modelo_nombre,\n",
        "    num_labels=3\n",
        ")\n",
        "\n",
        "print(\"💡 Con few-shot, el modelo aprende de pocos ejemplos y generaliza.\")\n",
        "print(\"   Útil cuando tienes datos limitados o tareas muy específicas.\\n\")"
      ]
    },
    {
      "cell_type": "markdown",
      "metadata": {},
      "source": [
        "## CONCLUSIONES Y RECURSOS"
      ]
    },
    {
      "cell_type": "code",
      "execution_count": null,
      "metadata": {},
      "outputs": [],
      "source": [
        "print(\"\\n\" + \"=\"*70)\n",
        "print(\"🎓 CONCLUSIONES\")\n",
        "print(\"=\"*70 + \"\\n\")\n",
        "\n",
        "print(\"\"\"\n",
        "🔗 RECURSOS:\n",
        "   • HuggingFace Models: https://huggingface.co/models\n",
        "   • Transformers Library: https://huggingface.co/docs/transformers\n",
        "   • Papers With Code (NLP): https://paperswithcode.com/area/natural-language-processing\n",
        "\"\"\")\n",
        "\n",
        "print(\"\\n✨ ¡El futuro del NLP es emocionante! Sigue explorando... ✨\\n\")"
      ]
    }
  ],
  "metadata": {
    "kernelspec": {
      "display_name": "Python 3",
      "language": "python",
      "name": "python3"
    },
    "language_info": {
      "codemirror_mode": {
        "name": "ipython",
        "version": 3
      },
      "file_extension": ".py",
      "mimetype": "text/x-python",
      "name": "python",
      "nbconvert_exporter": "python",
      "pygments_lexer": "ipython3",
      "version": "3.8.5"
    }
  },
  "nbformat": 4,
  "nbformat_minor": 4
}
