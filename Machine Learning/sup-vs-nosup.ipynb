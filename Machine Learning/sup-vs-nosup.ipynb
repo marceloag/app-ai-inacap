{
  "cells": [
    {
      "cell_type": "markdown",
      "id": "header-cell",
      "metadata": {
        "id": "header-cell"
      },
      "source": [
        "# 🌺 Aprendizaje Supervisado vs No Supervisado - Dataset Iris\n",
        "\n",
        "## 🎯 Objetivos del Ejercicio:\n",
        "- Experimentar la diferencia entre aprendizaje supervisado (clasificación) y no supervisado (agrupamiento)\n",
        "- Aplicar Regresión Logística y SVM para clasificación supervisada\n",
        "- Utilizar K-Means para clustering no supervisado\n",
        "- Comparar y visualizar los resultados de ambos enfoques\n",
        "\n",
        "---"
      ]
    },
    {
      "cell_type": "markdown",
      "id": "imports-header",
      "metadata": {
        "id": "imports-header"
      },
      "source": [
        "## 📦 Parte 1: Importar Librerías y Cargar Datos"
      ]
    },
    {
      "cell_type": "code",
      "execution_count": null,
      "id": "imports",
      "metadata": {
        "colab": {
          "base_uri": "https://localhost:8080/"
        },
        "id": "imports",
        "outputId": "f4526a17-e76e-4c67-c1bb-29b08ffc1d69"
      },
      "outputs": [],
      "source": [
        "# Importar librerías necesarias\n",
        "import numpy as np\n",
        "import pandas as pd\n",
        "import matplotlib.pyplot as plt\n",
        "import seaborn as sns\n",
        "from sklearn import datasets\n",
        "from sklearn.model_selection import train_test_split\n",
        "from sklearn.linear_model import LogisticRegression\n",
        "from sklearn.svm import SVC\n",
        "from sklearn.cluster import KMeans\n",
        "from sklearn.metrics import accuracy_score, classification_report, confusion_matrix\n",
        "from sklearn.preprocessing import StandardScaler\n",
        "from sklearn.decomposition import PCA\n",
        "import warnings\n",
        "warnings.filterwarnings('ignore')\n",
        "\n",
        "# Configurar estilo de gráficos\n",
        "plt.style.use('default')\n",
        "sns.set_palette(\"husl\")\n",
        "\n",
        "print(\"📚 Ejercicio: Aprendizaje Supervisado vs No Supervisado\")\n",
        "print(\"🌺 Dataset: Iris\")\n",
        "print(\"=\" * 60)"
      ]
    },
    {
      "cell_type": "code",
      "execution_count": null,
      "id": "load-data",
      "metadata": {
        "colab": {
          "base_uri": "https://localhost:8080/",
          "height": 335
        },
        "id": "load-data",
        "outputId": "38380e7b-3405-4e12-a113-2c2dba1830a3"
      },
      "outputs": [],
      "source": [
        "# Cargar el dataset Iris\n",
        "iris = datasets.load_iris()\n",
        "X = iris.data  # Características (sepal length, sepal width, petal length, petal width)\n",
        "y = iris.target  # Etiquetas (especies: setosa, versicolor, virginica)\n",
        "\n",
        "# Crear DataFrame para mejor visualización\n",
        "feature_names = iris.feature_names\n",
        "target_names = iris.target_names\n",
        "\n",
        "df = pd.DataFrame(X, columns=feature_names)\n",
        "df['species'] = y\n",
        "df['species_name'] = df['species'].map({0: 'setosa', 1: 'versicolor', 2: 'virginica'})\n",
        "\n",
        "print(\"📊 Información del Dataset:\")\n",
        "print(f\"• Número de muestras: {X.shape[0]}\")\n",
        "print(f\"• Número de características: {X.shape[1]}\")\n",
        "print(f\"• Clases: {list(target_names)}\")\n",
        "print(f\"• Características: {list(feature_names)}\")\n",
        "\n",
        "print(\"\\n📋 Primeras 5 filas del dataset:\")\n",
        "df.head()"
      ]
    },
    {
      "cell_type": "code",
      "execution_count": null,
      "id": "data-stats",
      "metadata": {
        "colab": {
          "base_uri": "https://localhost:8080/",
          "height": 319
        },
        "id": "data-stats",
        "outputId": "c58df436-0c2d-4b2f-ca6c-121b5acb8269"
      },
      "outputs": [],
      "source": [
        "# Estadísticas descriptivas\n",
        "print(\"📈 Estadísticas descriptivas:\")\n",
        "df.describe()"
      ]
    },
    {
      "cell_type": "markdown",
      "id": "eda-header",
      "metadata": {
        "id": "eda-header"
      },
      "source": [
        "## 🔍 Análisis Exploratorio de Datos"
      ]
    },
    {
      "cell_type": "code",
      "execution_count": null,
      "id": "eda-plots",
      "metadata": {
        "colab": {
          "base_uri": "https://localhost:8080/",
          "height": 1000
        },
        "id": "eda-plots",
        "outputId": "70001b54-43c7-4b13-874d-15eec177bbb2"
      },
      "outputs": [],
      "source": [
        "# Crear subplots para visualización exploratoria\n",
        "fig, axes = plt.subplots(2, 2, figsize=(15, 12))\n",
        "fig.suptitle('Análisis Exploratorio del Dataset Iris', fontsize=16, fontweight='bold')\n",
        "\n",
        "# 1. Distribución de especies\n",
        "species_counts = df['species_name'].value_counts()\n",
        "axes[0,0].pie(species_counts.values, labels=species_counts.index, autopct='%1.1f%%', startangle=90)\n",
        "axes[0,0].set_title('Distribución de Especies')\n",
        "\n",
        "# 2. Sepal Length vs Width\n",
        "axes[0,1].scatter(df['sepal length (cm)'], df['sepal width (cm)'], c=df['species'], cmap='viridis', alpha=0.7)\n",
        "axes[0,1].set_xlabel('Sepal Length (cm)')\n",
        "axes[0,1].set_ylabel('Sepal Width (cm)')\n",
        "axes[0,1].set_title('Sepal Length vs Width')\n",
        "\n",
        "# 3. Petal Length vs Width\n",
        "axes[1,0].scatter(df['petal length (cm)'], df['petal width (cm)'], c=df['species'], cmap='viridis', alpha=0.7)\n",
        "axes[1,0].set_xlabel('Petal Length (cm)')\n",
        "axes[1,0].set_ylabel('Petal Width (cm)')\n",
        "axes[1,0].set_title('Petal Length vs Width')\n",
        "\n",
        "# 4. Boxplot de petal length por especie\n",
        "df.boxplot(column='petal length (cm)', by='species_name', ax=axes[1,1])\n",
        "axes[1,1].set_title('Petal Length por Especie')\n",
        "axes[1,1].set_xlabel('Especie')\n",
        "\n",
        "plt.tight_layout()\n",
        "plt.show()"
      ]
    },
    {
      "cell_type": "code",
      "execution_count": null,
      "id": "correlation-matrix",
      "metadata": {
        "colab": {
          "base_uri": "https://localhost:8080/",
          "height": 699
        },
        "id": "correlation-matrix",
        "outputId": "885c700d-f9a1-4d3c-9fd8-ad8cac4aada6"
      },
      "outputs": [],
      "source": [
        "# Matriz de correlación\n",
        "plt.figure(figsize=(10, 8))\n",
        "correlation_matrix = df[feature_names].corr()\n",
        "sns.heatmap(correlation_matrix, annot=True, cmap='coolwarm', center=0, square=True)\n",
        "plt.title('Matriz de Correlación de Características')\n",
        "plt.show()"
      ]
    },
    {
      "cell_type": "markdown",
      "id": "supervised-header",
      "metadata": {
        "id": "supervised-header"
      },
      "source": [
        "## 🎯 Parte 2: Aprendizaje Supervisado\n",
        "\n",
        "En esta sección aplicaremos dos algoritmos de clasificación supervisada:\n",
        "1. **Regresión Logística**: Modelo lineal para clasificación\n",
        "2. **Support Vector Machine (SVM)**: Modelo no lineal con kernel RBF"
      ]
    },
    {
      "cell_type": "code",
      "execution_count": null,
      "id": "data-split",
      "metadata": {
        "colab": {
          "base_uri": "https://localhost:8080/"
        },
        "id": "data-split",
        "outputId": "560eed8e-85b1-417f-c0e8-f4e93800598e"
      },
      "outputs": [],
      "source": [
        "# Dividir datos en entrenamiento y prueba y estandarizacion de escala\n",
        "X_train, X_test, y_train, y_test = train_test_split(X, y, test_size=0.3, random_state=42, stratify=y)\n",
        "\n",
        "print(f\"📊 División de datos:\")\n",
        "print(f\"• Datos de entrenamiento: {X_train.shape[0]} muestras\")\n",
        "print(f\"• Datos de prueba: {X_test.shape[0]} muestras\")\n",
        "\n",
        "# Estandarizar las características\n",
        "scaler = StandardScaler()\n",
        "X_train_scaled = scaler.fit_transform(X_train)\n",
        "X_test_scaled = scaler.transform(X_test)\n",
        "\n",
        "print(\"\\n✅ Datos estandarizados para mejor rendimiento de los algoritmos\")"
      ]
    },
    {
      "cell_type": "markdown",
      "id": "logistic-header",
      "metadata": {
        "id": "logistic-header"
      },
      "source": [
        "### 🔸 Modelo 1: Regresión Logística"
      ]
    },
    {
      "cell_type": "code",
      "execution_count": null,
      "id": "logistic-regression",
      "metadata": {
        "colab": {
          "base_uri": "https://localhost:8080/"
        },
        "id": "logistic-regression",
        "outputId": "7ef42f0f-56be-46e0-80c5-c11d9f20c477"
      },
      "outputs": [],
      "source": [
        "# Entrenar modelo de Regresión Logística\n",
        "log_reg = LogisticRegression(random_state=42, max_iter=200)\n",
        "log_reg.fit(X_train_scaled, y_train)\n",
        "\n",
        "# Predicciones\n",
        "y_pred_log = log_reg.predict(X_test_scaled)\n",
        "\n",
        "# Evaluar modelo\n",
        "accuracy_log = accuracy_score(y_test, y_pred_log)\n",
        "print(f\"📈 Precisión Regresión Logística: {accuracy_log:.4f} ({accuracy_log*100:.2f}%)\")\n",
        "\n",
        "print(\"\\n📋 Reporte de Clasificación - Regresión Logística:\")\n",
        "print(classification_report(y_test, y_pred_log, target_names=target_names))"
      ]
    },
    {
      "cell_type": "markdown",
      "id": "svm-header",
      "metadata": {
        "id": "svm-header"
      },
      "source": [
        "### 🔸 Modelo 2: Support Vector Machine (SVM)"
      ]
    },
    {
      "cell_type": "code",
      "execution_count": null,
      "id": "svm-model",
      "metadata": {
        "colab": {
          "base_uri": "https://localhost:8080/"
        },
        "id": "svm-model",
        "outputId": "cba10705-6531-4e55-fda8-470675ecbe6f"
      },
      "outputs": [],
      "source": [
        "# Entrenar modelo SVM\n",
        "svm_model = SVC(kernel='rbf', random_state=42)\n",
        "svm_model.fit(X_train_scaled, y_train)\n",
        "\n",
        "# Predicciones\n",
        "y_pred_svm = svm_model.predict(X_test_scaled)\n",
        "\n",
        "# Evaluar modelo\n",
        "accuracy_svm = accuracy_score(y_test, y_pred_svm)\n",
        "print(f\"📈 Precisión SVM: {accuracy_svm:.4f} ({accuracy_svm*100:.2f}%)\")\n",
        "\n",
        "print(\"\\n📋 Reporte de Clasificación - SVM:\")\n",
        "print(classification_report(y_test, y_pred_svm, target_names=target_names))"
      ]
    },
    {
      "cell_type": "code",
      "execution_count": null,
      "id": "confusion-matrices",
      "metadata": {
        "colab": {
          "base_uri": "https://localhost:8080/",
          "height": 607
        },
        "id": "confusion-matrices",
        "outputId": "56e14015-5568-44e5-8cf3-150a6dddb90d"
      },
      "outputs": [],
      "source": [
        "# Visualizar matrices de confusión\n",
        "fig, axes = plt.subplots(1, 2, figsize=(15, 6))\n",
        "\n",
        "# Matriz de confusión - Regresión Logística\n",
        "cm_log = confusion_matrix(y_test, y_pred_log)\n",
        "sns.heatmap(cm_log, annot=True, fmt='d', cmap='Blues',\n",
        "            xticklabels=target_names, yticklabels=target_names, ax=axes[0])\n",
        "axes[0].set_title(f'Matriz de Confusión - Regresión Logística\\nPrecisión: {accuracy_log:.4f}')\n",
        "axes[0].set_ylabel('Etiqueta Real')\n",
        "axes[0].set_xlabel('Predicción')\n",
        "\n",
        "# Matriz de confusión - SVM\n",
        "cm_svm = confusion_matrix(y_test, y_pred_svm)\n",
        "sns.heatmap(cm_svm, annot=True, fmt='d', cmap='Greens',\n",
        "            xticklabels=target_names, yticklabels=target_names, ax=axes[1])\n",
        "axes[1].set_title(f'Matriz de Confusión - SVM\\nPrecisión: {accuracy_svm:.4f}')\n",
        "axes[1].set_ylabel('Etiqueta Real')\n",
        "axes[1].set_xlabel('Predicción')\n",
        "\n",
        "plt.tight_layout()\n",
        "plt.show()"
      ]
    },
    {
      "cell_type": "markdown",
      "id": "unsupervised-header",
      "metadata": {
        "id": "unsupervised-header"
      },
      "source": [
        "## 🎲 Parte 3: Aprendizaje No Supervisado - K-Means\n",
        "\n",
        "Ahora aplicaremos clustering K-Means **sin usar las etiquetas de especies**. El algoritmo intentará encontrar 3 grupos naturales en los datos."
      ]
    },
    {
      "cell_type": "code",
      "execution_count": null,
      "id": "kmeans-clustering",
      "metadata": {
        "colab": {
          "base_uri": "https://localhost:8080/"
        },
        "id": "kmeans-clustering",
        "outputId": "73d4dacf-be3c-4b3f-999d-d1a4919be985"
      },
      "outputs": [],
      "source": [
        "# Aplicar K-Means con k=3 (sabemos que hay 3 especies, pero el algoritmo no)\n",
        "kmeans = KMeans(n_clusters=3, random_state=42, n_init=10)\n",
        "clusters_pred = kmeans.fit_predict(X)\n",
        "\n",
        "print(f\"🎯 Clusters encontrados: {len(set(clusters_pred))}\")\n",
        "print(f\"📍 Centroides de los clusters:\")\n",
        "for i, centroid in enumerate(kmeans.cluster_centers_):\n",
        "    print(f\"   Cluster {i}: [{centroid[0]:.2f}, {centroid[1]:.2f}, {centroid[2]:.2f}, {centroid[3]:.2f}]\")\n",
        "\n",
        "# Añadir clusters al DataFrame\n",
        "df['cluster'] = clusters_pred\n",
        "\n",
        "print(\"\\n📊 Distribución de clusters:\")\n",
        "cluster_counts = pd.Series(clusters_pred).value_counts().sort_index()\n",
        "for cluster, count in cluster_counts.items():\n",
        "    print(f\"   Cluster {cluster}: {count} muestras\")"
      ]
    },
    {
      "cell_type": "code",
      "execution_count": null,
      "id": "clustering-evaluation",
      "metadata": {
        "colab": {
          "base_uri": "https://localhost:8080/"
        },
        "id": "clustering-evaluation",
        "outputId": "512a4d62-9686-496f-ce72-875256fc1fc1"
      },
      "outputs": [],
      "source": [
        "# Evaluación del clustering\n",
        "# Crear tabla de contingencia para comparar clusters vs especies reales\n",
        "contingency_table = pd.crosstab(df['species_name'], df['cluster'], margins=True)\n",
        "print(\"📋 Tabla de Contingencia (Especies Reales vs Clusters):\")\n",
        "print(contingency_table)\n",
        "\n",
        "# Calcular \"pureza\" de los clusters Un valor alto significa que los clusters se alinean bastante bien con las especies reales.\n",
        "# Un valor bajo significa que los clusters mezclan varias especies.\n",
        "def calculate_purity(contingency_table):\n",
        "    # Excluir la fila y columna de totales\n",
        "    ct_without_totals = contingency_table.iloc[:-1, :-1]\n",
        "    cluster_max_counts = ct_without_totals.max(axis=0)  # Máximo por cluster\n",
        "    total_samples = ct_without_totals.sum().sum()\n",
        "    purity = cluster_max_counts.sum() / total_samples\n",
        "    return purity\n",
        "\n",
        "purity = calculate_purity(contingency_table)\n",
        "print(f\"\\n📈 Pureza del clustering: {purity:.4f} ({purity*100:.2f}%)\")"
      ]
    },
    {
      "cell_type": "markdown",
      "id": "visualization-header",
      "metadata": {
        "id": "visualization-header"
      },
      "source": [
        "## 📊 Parte 4: Visualización y Comparación de Resultados\n",
        "\n",
        "Usaremos PCA para reducir la dimensionalidad y visualizar los resultados en 2D."
      ]
    },
    {
      "cell_type": "code",
      "execution_count": null,
      "id": "pca-reduction",
      "metadata": {
        "colab": {
          "base_uri": "https://localhost:8080/"
        },
        "id": "pca-reduction",
        "outputId": "3b2f3b32-d7be-4559-e25e-9fc81402725b"
      },
      "outputs": [],
      "source": [
        "# Reducir dimensionalidad con PCA para visualización\n",
        "pca = PCA(n_components=2)\n",
        "X_pca = pca.fit_transform(X)\n",
        "\n",
        "print(f\"📉 PCA - Varianza explicada total: {pca.explained_variance_ratio_.sum():.4f}\")\n",
        "print(f\"   • Componente 1: {pca.explained_variance_ratio_[0]:.4f}\")\n",
        "print(f\"   • Componente 2: {pca.explained_variance_ratio_[1]:.4f}\")"
      ]
    },
    {
      "cell_type": "code",
      "execution_count": null,
      "id": "comparative-visualization",
      "metadata": {
        "colab": {
          "base_uri": "https://localhost:8080/",
          "height": 539
        },
        "id": "comparative-visualization",
        "outputId": "b8566f0c-9707-4137-f28a-05035f862c08"
      },
      "outputs": [],
      "source": [
        "# Crear visualización comparativa\n",
        "fig, axes = plt.subplots(1, 3, figsize=(20, 6))\n",
        "\n",
        "# 1. Especies reales\n",
        "scatter1 = axes[0].scatter(X_pca[:, 0], X_pca[:, 1], c=y, cmap='viridis', alpha=0.7, s=50)\n",
        "axes[0].set_title('Especies Reales\\n(Datos con Etiquetas)', fontsize=14, fontweight='bold')\n",
        "axes[0].set_xlabel(f'PC1 ({pca.explained_variance_ratio_[0]:.2%} varianza)')\n",
        "axes[0].set_ylabel(f'PC2 ({pca.explained_variance_ratio_[1]:.2%} varianza)')\n",
        "axes[0].grid(True, alpha=0.3)\n",
        "\n",
        "# Añadir leyenda para especies\n",
        "species_colors = plt.cm.viridis(np.linspace(0, 1, 3))\n",
        "for i, (species, color) in enumerate(zip(target_names, species_colors)):\n",
        "    axes[0].scatter([], [], c=[color], label=species, s=50)\n",
        "axes[0].legend(title='Especies')\n",
        "\n",
        "# 2. Clusters K-Means\n",
        "scatter2 = axes[1].scatter(X_pca[:, 0], X_pca[:, 1], c=clusters_pred, cmap='plasma', alpha=0.7, s=50)\n",
        "axes[1].set_title('Clusters K-Means\\n(Aprendizaje No Supervisado)', fontsize=14, fontweight='bold')\n",
        "axes[1].set_xlabel(f'PC1 ({pca.explained_variance_ratio_[0]:.2%} varianza)')\n",
        "axes[1].set_ylabel(f'PC2 ({pca.explained_variance_ratio_[1]:.2%} varianza)')\n",
        "axes[1].grid(True, alpha=0.3)\n",
        "\n",
        "# Marcar centroides\n",
        "centroids_pca = pca.transform(kmeans.cluster_centers_)\n",
        "axes[1].scatter(centroids_pca[:, 0], centroids_pca[:, 1],\n",
        "               marker='x', s=200, linewidths=3, color='red', label='Centroides')\n",
        "axes[1].legend()\n",
        "\n",
        "# 3. Comparación (coincidencias vs diferencias)\n",
        "combined_colors = np.array(['red' if y[i] != clusters_pred[i] else 'green'\n",
        "                           for i in range(len(y))])\n",
        "scatter3 = axes[2].scatter(X_pca[:, 0], X_pca[:, 1], c=combined_colors, alpha=0.7, s=50)\n",
        "axes[2].set_title('Comparación\\n(Verde: Coinciden, Rojo: Difieren)', fontsize=14, fontweight='bold')\n",
        "axes[2].set_xlabel(f'PC1 ({pca.explained_variance_ratio_[0]:.2%} varianza)')\n",
        "axes[2].set_ylabel(f'PC2 ({pca.explained_variance_ratio_[1]:.2%} varianza)')\n",
        "axes[2].grid(True, alpha=0.3)\n",
        "\n",
        "plt.tight_layout()\n",
        "plt.show()"
      ]
    },
    {
      "cell_type": "markdown",
      "id": "results-header",
      "metadata": {
        "id": "results-header"
      },
      "source": [
        "## 📋 Resumen y Conclusiones"
      ]
    },
    {
      "cell_type": "code",
      "execution_count": null,
      "id": "final-results",
      "metadata": {
        "colab": {
          "base_uri": "https://localhost:8080/"
        },
        "id": "final-results",
        "outputId": "b2553211-f381-4d44-ed2d-71d4d5a011f4"
      },
      "outputs": [],
      "source": [
        "print(\"=\" * 60)\n",
        "print(\"📋 RESUMEN DE RESULTADOS\")\n",
        "print(\"=\" * 60)\n",
        "\n",
        "print(\"🎯 APRENDIZAJE SUPERVISADO:\")\n",
        "print(f\"   • Regresión Logística: {accuracy_log:.4f} ({accuracy_log*100:.2f}% precisión)\")\n",
        "print(f\"   • SVM: {accuracy_svm:.4f} ({accuracy_svm*100:.2f}% precisión)\")\n",
        "\n",
        "print(f\"\\n🎲 APRENDIZAJE NO SUPERVISADO:\")\n",
        "print(f\"   • K-Means: {purity:.4f} ({purity*100:.2f}% pureza)\")\n",
        "\n",
        "print(f\"\\n🔍 ANÁLISIS COMPARATIVO:\")\n",
        "\n",
        "# Contar coincidencias exactas entre especies reales y clusters\n",
        "matches = sum(1 for i in range(len(y)) if y[i] == clusters_pred[i])\n",
        "match_percentage = matches / len(y)\n",
        "\n",
        "print(f\"   • Coincidencias directas: {matches}/{len(y)} ({match_percentage*100:.2f}%)\")\n",
        "\n",
        "# Análisis por especie\n",
        "print(f\"\\n📊 ANÁLISIS DETALLADO POR ESPECIE/CLUSTER:\")\n",
        "for species_idx, species_name in enumerate(target_names):\n",
        "    species_mask = y == species_idx\n",
        "    dominant_cluster = pd.Series(clusters_pred[species_mask]).mode()[0]\n",
        "    cluster_purity = (clusters_pred[species_mask] == dominant_cluster).mean()\n",
        "    print(f\"   • {species_name}: principalmente en cluster {dominant_cluster} ({cluster_purity*100:.1f}% pureza)\")\n",
        "\n",
        "print(f\"\\n💡 CONCLUSIONES:\")\n",
        "print(f\"   1. El aprendizaje SUPERVISADO logra {max(accuracy_log, accuracy_svm)*100:.1f}% de precisión\")\n",
        "print(f\"   2. El aprendizaje NO SUPERVISADO logra {purity*100:.1f}% de pureza\")\n",
        "print(f\"   3. K-Means identifica patrones naturales en los datos sin usar etiquetas\")\n",
        "print(f\"   4. Los clusters coinciden parcialmente con las especies reales\")\n",
        "print(f\"   5. Ambos enfoques son útiles según el contexto del problema\")\n",
        "\n",
        "print(\"\\n🎉 ¡Ejercicio completado! 🎉\")\n",
        "print(\"=\" * 60)"
      ]
    },
    {
      "cell_type": "markdown",
      "id": "final-notes",
      "metadata": {
        "id": "final-notes"
      },
      "source": [
        "---\n",
        "\n",
        "## 📝 Notas Finales\n",
        "\n",
        "1. **Aprendizaje Supervisado**:\n",
        "   - Utiliza etiquetas conocidas para entrenar el modelo\n",
        "   - Logra alta precisión cuando hay datos etiquetados disponibles\n",
        "   - Regresión Logística y SVM mostraron excelente rendimiento\n",
        "\n",
        "2. **Aprendizaje No Supervisado**:\n",
        "   - No requiere etiquetas, encuentra patrones ocultos\n",
        "   - K-Means identificó grupos que corresponden parcialmente a las especies reales\n",
        "   - Útil para explorar datos cuando no conocemos las categorías\n",
        "\n",
        "3. **Comparación**:\n",
        "   - El supervisado es más preciso cuando tenemos etiquetas\n",
        "   - El no supervisado es valioso para descubrir estructuras desconocidas\n",
        "   - Ambos enfoques son complementarios según el problema\n",
        "\n",
        "---"
      ]
    }
  ],
  "metadata": {
    "colab": {
      "provenance": []
    },
    "kernelspec": {
      "display_name": "Python 3",
      "language": "python",
      "name": "python3"
    },
    "language_info": {
      "codemirror_mode": {
        "name": "ipython",
        "version": 3
      },
      "file_extension": ".py",
      "mimetype": "text/x-python",
      "name": "python",
      "nbconvert_exporter": "python",
      "pygments_lexer": "ipython3",
      "version": "3.8.5"
    }
  },
  "nbformat": 4,
  "nbformat_minor": 5
}
